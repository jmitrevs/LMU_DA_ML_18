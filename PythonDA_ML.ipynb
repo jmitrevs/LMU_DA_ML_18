{
 "cells": [
  {
   "cell_type": "markdown",
   "metadata": {
    "toc": true
   },
   "source": [
    "<h1>Table of Contents<span class=\"tocSkip\"></span></h1>\n",
    "<div class=\"toc\"><ul class=\"toc-item\"><li><span><a href=\"#Data-Analysis-and-Machine-Learning-with-Python\" data-toc-modified-id=\"Data-Analysis-and-Machine-Learning-with-Python-1\"><span class=\"toc-item-num\">1&nbsp;&nbsp;</span>Data Analysis and Machine Learning with Python</a></span><ul class=\"toc-item\"><li><span><a href=\"#Content\" data-toc-modified-id=\"Content-1.1\"><span class=\"toc-item-num\">1.1&nbsp;&nbsp;</span>Content</a></span></li><li><span><a href=\"#Bachelor/Master-Qualification\" data-toc-modified-id=\"Bachelor/Master-Qualification-1.2\"><span class=\"toc-item-num\">1.2&nbsp;&nbsp;</span>Bachelor/Master Qualification</a></span></li><li><span><a href=\"#Course-organization-and-outline\" data-toc-modified-id=\"Course-organization-and-outline-1.3\"><span class=\"toc-item-num\">1.3&nbsp;&nbsp;</span>Course organization and outline</a></span></li><li><span><a href=\"#References\" data-toc-modified-id=\"References-1.4\"><span class=\"toc-item-num\">1.4&nbsp;&nbsp;</span>References</a></span><ul class=\"toc-item\"><li><span><a href=\"#Books\" data-toc-modified-id=\"Books-1.4.1\"><span class=\"toc-item-num\">1.4.1&nbsp;&nbsp;</span>Books</a></span></li><li><span><a href=\"#Theoretical-background-and-advance-material\" data-toc-modified-id=\"Theoretical-background-and-advance-material-1.4.2\"><span class=\"toc-item-num\">1.4.2&nbsp;&nbsp;</span>Theoretical background and advance material</a></span></li><li><span><a href=\"#Online-info\" data-toc-modified-id=\"Online-info-1.4.3\"><span class=\"toc-item-num\">1.4.3&nbsp;&nbsp;</span>Online info</a></span></li></ul></li><li><span><a href=\"#Python-setup\" data-toc-modified-id=\"Python-setup-1.5\"><span class=\"toc-item-num\">1.5&nbsp;&nbsp;</span>Python setup</a></span></li></ul></li></ul></div>"
   ]
  },
  {
   "cell_type": "markdown",
   "metadata": {},
   "source": [
    "# Data Analysis and Machine Learning with Python\n",
    "\n",
    "**Guenter Duckeck**\n",
    "\n",
    "**5 days, Feb 26  - Mar 2, 2018, 10:00-12:00 / 13:30-16:00**\n",
    "\n",
    "\n",
    " All course material at:  \n",
    "\n",
    "**http://www-static.etp.physik.uni-muenchen.de/kurs/Computing/ml/**\n",
    "\n",
    "and on Github:  \n",
    "\n",
    "**https://github.com/gdxd/LMU_DA_ML_18**\n",
    "\n",
    "Download with\n",
    "\n",
    "```git clone https://github.com/gdxd/LMU_DA_ML_18```\n",
    "\n",
    "\n",
    "\n",
    "  \n",
    "\n",
    "\n"
   ]
  },
  {
   "cell_type": "markdown",
   "metadata": {},
   "source": [
    "## Content\n",
    "* Introduction\n",
    "  * Organizational issues\n",
    "  * [References](#References)\n",
    "  * [Python setup](#Python-setup)\n",
    "  * [jupyter notebooks](nb_intro.ipynb)\n",
    "  * Python introduction: [Link to material Software Handwerkszeug Course](http://www-static.etp.physik.uni-muenchen.de/kurs/Computing/sw/node19.html)\n",
    "* Scientific Python:\n",
    "  * [Numpy](NumpyIntro.ipynb)\n",
    "  * [Matplotlib](MatplotlibIntro.ipynb)\n",
    "  * [SciPy](ScipyIntro.ipynb)\n",
    "  * [Exercises](ScipyExercises.ipynb)\n",
    "* [Pandas - data analysis with Python](PandasIntro.ipynb)\n",
    "  * Pandas Dataframes and IO\n",
    "  * Working with dataframes - Slicing, cleaning, extending, grouping, aggregating\n",
    "  * [Exercises](PandasExercises.ipynb)\n",
    "* Machine learning\n",
    "  * [Basic concepts](MLIntro.ipynb)\n",
    "  * Introductory example - [Nearest neighbours](knnExample.ipynb)\n",
    "  * [Scikit-learn Overview](ScilearnIntro.ipynb)\n",
    "  * [Testing, validating, Overtraining](ScilearnValidation.ipynb)\n",
    "  * [Decision Trees](DecisionTrees.ipynb)\n",
    "\n",
    "  * [Exercises](MLExercises.ipynb)\n",
    "\n",
    "* ML example from particle physics analysis\n",
    "  \n",
    "***"
   ]
  },
  {
   "cell_type": "markdown",
   "metadata": {},
   "source": [
    "## Bachelor/Master Qualification\n",
    "\n",
    "* Course can get accounted as \"Schlüsselqualifikation\", i.e.\n",
    "  * 1-week block course is equivalent to SQ 1+2 or 3 ECTS points.\n",
    "* For successful participation you need to pass a written examination on last day of course (Friday afternoon).\n",
    "  We'll hand out certificates (Scheinformulare) during examination, please fill and hand in.\n",
    "* After checking the examination we will publish a list (Matrikelnummer, passed yes/no) on course home page and will\n",
    "send certificates to Prüfungsamt, where you can pick them up. Might take until late April.\n"
   ]
  },
  {
   "cell_type": "markdown",
   "metadata": {},
   "source": [
    "## Course organization and outline\n",
    "\n",
    "The course is meant to present an overview on modern techniques for data analysis and machine learning based on Python packages.\n",
    "\n",
    "* It is assumed that you have basic programming knowledge in general and also some experience in Python in particular. \n",
    "\n",
    "* In addition, some basic background knowledge in physics, mathematics and statistics is assumed.\n",
    "\n",
    "The course will present an tutorial-style presentation of the subject\n",
    "* most material as **jupyter notebooks**\n",
    "* plenty of time for your own testing and exercises\n",
    "\n",
    "Little discussion of theoretical background of statistics and machine learning, meant as practical, hands-on course.  \n",
    "Goals:\n",
    "* basic know-how for reading, filtering, processing different kinds of input data\n",
    "* basic statistics and visualization techniques\n",
    "* introduction to machine learning:\n",
    "  * Models, training, validation\n",
    "  \n",
    "***  \n",
    "  \n",
    "**Schedule**  \n",
    "\n",
    "**10 blocks** of 2-2.5 hours each:\n",
    "* Mon & Tue: Python Intro, Numpy, Scipy, Matplotlib, Pandas\n",
    "* Wed & Thu : ML overview\n",
    "* Thu afternoon & Fri morning: ML showcases from (particle) physics *(Jovan Mitrevski)*\n",
    "* Fri afternoon: exam\n",
    "\n",
    "***"
   ]
  },
  {
   "cell_type": "markdown",
   "metadata": {
    "collapsed": true
   },
   "source": [
    "## References\n",
    "Extremely active field in recent years, many books, online courses, youtube videos, ...\n",
    "\n",
    "### Books\n",
    "*  **[Python Data Science Handbook](http://shop.oreilly.com/product/0636920034919.do)** by Jake VanderPlas. A substantial part of this course is based on this book. Broad overview on the subject, \n",
    "covers Python packages *numpy, matplotlib, pandas and scikit-learn*.  \n",
    "A big plus is that all material presented in the book is readily available as Jupyter notebooks on **[github](https://github.com/jakevdp/PythonDataScienceHandbook)** \n",
    "  * Just download with git to have it available:  \n",
    "    `git clone https://github.com/jakevdp/PythonDataScienceHandbook`\n",
    "*  **[Data science from Scratch](http://shop.oreilly.com/product/0636920033400.do)** by Joel Grus.  \n",
    "  This book does go into details how to program machine learning models in Python. \n",
    "*  **[Introduction to Machine Learning with Python](http://shop.oreilly.com/product/0636920030515.do)** by Sarah Guido, Andreas Müller. Focus on ML with *scikit-learn*. More detailed discussion of Learning models.\n",
    "Also provides repository with example-notebooks.\n",
    "* **[Python for Data Analysis](http://shop.oreilly.com/product/0636920023784.do)** by Wes McKinney, Book about Pandas from Pandas inventor\n",
    "\n",
    "### Theoretical background and advance material\n",
    "*  **Pattern Recognition and Machine Learning** by C.M.Bishop.\n",
    "*  **The Elements of Statistical Learning** by T. Hastie etal.\n",
    "*  **[Deep learning](http://www.deeplearningbook.org/)**, Goodfellow et al\n",
    "\n",
    "### Online info\n",
    "* **[Python 3.6 documentation](https://docs.python.org/3.6/)**\n",
    "* **[SciPy Homepage](http://www.scipy.org/)**\n",
    "* **[SciPy Lecture Notes](http://www.scipy-lectures.org/index.html)** Nice tutorial for Scientific Python - from basic to advanced \n",
    "* **[Kaggle](https://www.kaggle.com/)** is a fantastic source for information on data science\n",
    "  * provides tutorials, example datasets, challenges, ...\n",
    "  * from basic introduction to highly advanced stuff\n",
    "\n",
    "* **https://github.com/terryum/awesome-deep-learning-papers** many more links to recent paper, books, videos, blogs, ...\n",
    "\n",
    "Further references see Course **[Software Handwerkszeug](http://www-static.etp.physik.uni-muenchen.de/kurs/Computing/sw/node5.html)**\n",
    "\n",
    "***\n"
   ]
  },
  {
   "cell_type": "markdown",
   "metadata": {
    "collapsed": true
   },
   "source": [
    "## Python setup \n",
    "\n",
    "We use a special Python environment on the CIP cluster which needs to be setup explicitly by executing in your Shell:   \n",
    "```\n",
    "module load anaconda3/5.1\n",
    "```\n",
    "\n",
    "* either this is executed in each shell before starting.\n",
    "* or you include the above line in your startup-script `$HOME/.bashrc`\n",
    "\n",
    "The installation is based on the **[Anaconda](https://www.anaconda.com/download)** and **[conda](https://conda.io/docs/user-guide/install/index.html)** tools, which provide scientific and machine learning python packages for many architectures (Linux, WIndows, Mac).\n",
    "\n",
    "To install the environment on your system the follwing packages should installed (with conda):\n",
    "```\n",
    "conda install numpy pandas scikit-learn matplotlib \\\n",
    "       seaborn jupyter keras\n",
    "```\n",
    "And in addition for a few useful features in notebook handling:\n",
    "```\n",
    "conda install -c conda-forge jupyter_contrib_nbextensions\n",
    "```"
   ]
  },
  {
   "cell_type": "code",
   "execution_count": null,
   "metadata": {
    "collapsed": true
   },
   "outputs": [],
   "source": []
  }
 ],
 "metadata": {
  "anaconda-cloud": {},
  "kernelspec": {
   "display_name": "Python 3",
   "language": "python",
   "name": "python3"
  },
  "language_info": {
   "codemirror_mode": {
    "name": "ipython",
    "version": 3
   },
   "file_extension": ".py",
   "mimetype": "text/x-python",
   "name": "python",
   "nbconvert_exporter": "python",
   "pygments_lexer": "ipython3",
   "version": "3.6.3"
  },
  "toc": {
   "nav_menu": {},
   "number_sections": true,
   "sideBar": true,
   "skip_h1_title": false,
   "title_cell": "Table of Contents",
   "title_sidebar": "Contents",
   "toc_cell": true,
   "toc_position": {},
   "toc_section_display": true,
   "toc_window_display": false
  }
 },
 "nbformat": 4,
 "nbformat_minor": 1
}
